{
  "nbformat": 4,
  "nbformat_minor": 0,
  "metadata": {
    "colab": {
      "provenance": []
    },
    "kernelspec": {
      "name": "python3",
      "display_name": "Python 3"
    },
    "language_info": {
      "name": "python"
    }
  },
  "cells": [
    {
      "cell_type": "code",
      "source": [
        "import numpy as np\n",
        "\n",
        "def rgb_to_grays(rgb_image):\n",
        "  grayscale = np.dot(rgb_image, [0.2989, 0.5870, 0.1140])\n",
        "  return grayscale\n",
        "\n",
        "rgb_image = np.array([[[255, 0, 0], [0, 255, 0], [0, 0, 255]],\n",
        "                       [[255, 255, 0], [255, 0, 255], [0, 255, 255]],\n",
        "                       [[127, 127, 127], [200, 200, 200], [50, 50, 50]]])\n",
        "\n",
        "grayscale = rgb_to_grays(rgb_image)\n",
        "print(grayscale)\n"
      ],
      "metadata": {
        "colab": {
          "base_uri": "https://localhost:8080/"
        },
        "id": "xejgfk8pExO9",
        "outputId": "c1842563-9e14-4e06-cc68-f0770794b32e"
      },
      "execution_count": 5,
      "outputs": [
        {
          "output_type": "stream",
          "name": "stdout",
          "text": [
            "[[ 76.2195 149.685   29.07  ]\n",
            " [225.9045 105.2895 178.755 ]\n",
            " [126.9873 199.98    49.995 ]]\n"
          ]
        }
      ]
    },
    {
      "cell_type": "code",
      "source": [
        "import numpy as np\n",
        "\n",
        "def n_data(data):\n",
        "  n_data = data - np.mean(data, axis=0)\n",
        "  n_data = n_data / np.std(data, axis=0)\n",
        "\n",
        "  return n_data\n",
        "\n",
        "data = np.array([[100, 70, 70],\n",
        "                  [170, 60, 66],\n",
        "                  [630, 90, 99]])\n",
        "\n",
        "n_data = n_data(data)\n",
        "\n",
        "print(n_data)\n"
      ],
      "metadata": {
        "colab": {
          "base_uri": "https://localhost:8080/"
        },
        "id": "u8lzkUfhFcBe",
        "outputId": "c9bbf3df-ea47-4ff5-a410-740ed13af74f"
      },
      "execution_count": 9,
      "outputs": [
        {
          "output_type": "stream",
          "name": "stdout",
          "text": [
            "[[-0.85074295 -0.26726124 -0.56672007]\n",
            " [-0.55298292 -1.06904497 -0.8387457 ]\n",
            " [ 1.40372587  1.33630621  1.40546577]]\n"
          ]
        }
      ]
    },
    {
      "cell_type": "code",
      "source": [
        "import numpy as np\n",
        "sensor_data = np.array([\n",
        "    [[1, 2, 3],\n",
        "     [4, 5, 6]],\n",
        "    [[7, 8, 9],\n",
        "     [10, 11, 12]]])\n",
        "print(sensor_data.shape)\n",
        "flat_data = sensor_data.reshape(sensor_data.shape[1], -1)\n",
        "print(flat_data)\n",
        "reshape_data = flat_data.reshape(-1, flat_data.shape[1] // sensor_data.shape[2])\n",
        "print(reshape_data)\n"
      ],
      "metadata": {
        "colab": {
          "base_uri": "https://localhost:8080/"
        },
        "id": "e_0NUuJLIEDo",
        "outputId": "c1cb2b89-20b1-46f2-e329-5d4ad3b1a035"
      },
      "execution_count": 18,
      "outputs": [
        {
          "output_type": "stream",
          "name": "stdout",
          "text": [
            "(2, 2, 3)\n",
            "[[ 1  2  3  4  5  6]\n",
            " [ 7  8  9 10 11 12]]\n",
            "[[ 1  2]\n",
            " [ 3  4]\n",
            " [ 5  6]\n",
            " [ 7  8]\n",
            " [ 9 10]\n",
            " [11 12]]\n"
          ]
        }
      ]
    },
    {
      "cell_type": "code",
      "source": [
        "import numpy as np\n",
        "ath_data = np.array([\n",
        "    [10, 12, 15, 18],\n",
        "    [14, 15, 13, 16],\n",
        "    [8, 9, 11, 14]])\n",
        "value = ath_data[:,-1] - ath_data[:,0]\n",
        "print(value)\n"
      ],
      "metadata": {
        "colab": {
          "base_uri": "https://localhost:8080/"
        },
        "id": "HK_sE196JuKO",
        "outputId": "a76c861b-7783-4735-b6a5-ec5d646c254e"
      },
      "execution_count": 22,
      "outputs": [
        {
          "output_type": "stream",
          "name": "stdout",
          "text": [
            "[8 2 6]\n"
          ]
        }
      ]
    },
    {
      "cell_type": "code",
      "source": [
        "import numpy as np\n",
        "\n",
        "def  avg_score(scores):\n",
        "  n_students, n_subjects, _ = scores.shape\n",
        "  valid_mark = scores != -1\n",
        "  last_subjects = scores[:, -min(3, n_subjects):, :]\n",
        "  valid_last_subjects = last_subjects[valid_mark[:, -min(3, n_subjects):, :]]\n",
        "  avg_scores = np.mean(valid_last_subjects, axis=1)\n",
        "  return avg_scores\n",
        "\n",
        "scores = np.array([\n",
        "  [[70, 80, 90], [85, 90, 95], [-1, 100, 98]],\n",
        "  [[60, 75, 85], [90, 80, 75], [88, 92, 95]]])\n",
        "\n",
        "avg = avg_score(scores)\n",
        "print(avg)\n"
      ],
      "metadata": {
        "id": "s4mDwRkxKwyl"
      },
      "execution_count": null,
      "outputs": []
    },
    {
      "cell_type": "code",
      "source": [
        "import numpy as np\n",
        "\n",
        "def adjust_temp(temp, arr):\n",
        "\n",
        "  return temp + arr[:, np.newaxis]\n",
        "\n",
        "temp = np.array([\n",
        "  [10.5, 12.3, 14.7, 15.9, 17.8, 18.9, 20.3, 19.7, 17.2, 14.1, 11.3, 9.4],\n",
        "  [12.1, 13.8, 15.9, 17.5, 19.1, 20.4, 21.8, 21.1, 18.6, 15.4, 12.7, 10.9],\n",
        "])\n",
        "\n",
        "arr = np.array([0.2, 0.3, 0.4, 0.5, 0.6, 0.7, 0.8, 0.7, 0.6, 0.5, 0.4, 0.3])\n",
        "arr = arr.reshape(1,12)\n",
        "adjusted_temp = adjust_temp(temp, arr)\n",
        "print(adjusted_temp)\n"
      ],
      "metadata": {
        "colab": {
          "base_uri": "https://localhost:8080/"
        },
        "id": "WrfliJabMALd",
        "outputId": "697d42f7-5948-4bb6-8d59-51a4e7f92ebe"
      },
      "execution_count": 27,
      "outputs": [
        {
          "output_type": "stream",
          "name": "stdout",
          "text": [
            "[[[10.7 12.6 15.1 16.4 18.4 19.6 21.1 20.4 17.8 14.6 11.7  9.7]\n",
            "  [12.3 14.1 16.3 18.  19.7 21.1 22.6 21.8 19.2 15.9 13.1 11.2]]]\n"
          ]
        }
      ]
    },
    {
      "cell_type": "code",
      "source": [
        "import pandas as pd\n",
        "data = {'Name': ['Alice', 'Bob', 'Charlie', 'David', 'Eve', 'Frank', 'Grace'],\n",
        "        'Age': [25, 30, 35, 40, 45, 50, 55],\n",
        "        'City': ['New York', 'Los Angeles', 'Chicago', 'Houston', 'Phoenix', 'Miami',\n",
        "                 'Boston'],\n",
        "        'Department': ['HR', 'IT', 'Finance', 'Marketing', 'Sales', 'IT', 'HR']}\n",
        "fil_data = [employee for employee in data.values() if employee['Age'] < 45 and 'HR' not in employee['Department']]\n",
        "fil_data = [{'Name': employee['Name'], 'City': employee['City']} for employee in fil_data]\n",
        "\n",
        "\n",
        "\n",
        "print(fil_data)\n"
      ],
      "metadata": {
        "id": "vivVPo3KNRh5"
      },
      "execution_count": null,
      "outputs": []
    },
    {
      "cell_type": "code",
      "source": [
        "import pandas as pd\n",
        "data = {\n",
        "    \"Product\": [\"Apples\", \"Bananas\", \"Cherries\", \"Dates\", \"Elderberries\", \"Flour\", \"Grapes\"],\n",
        "    \"Category\": [\"Fruit\", \"Fruit\", \"Fruit\", \"Fruit\", \"Fruit\", \"Bakery\", \"Fruit\"],\n",
        "    \"Price\": [1.20, 0.50, 3.00, 2.50, 4.00, 1.50, 2.00],\n",
        "    \"Promotion\": [True, False, True, True, False, True, False]\n",
        "}\n",
        "\n",
        "df = pd.DataFrame(data)\n",
        "products = df[(df[\"Category\"] == \"Fruit\") & (df[\"Price\"] > df[\"Price\"].mean()) & (~df[\"Promotion\"])]\n",
        "promotions = products[\"Product\"].tolist()\n",
        "print(promotions)\n"
      ],
      "metadata": {
        "colab": {
          "base_uri": "https://localhost:8080/"
        },
        "id": "bRQcC1VZPTih",
        "outputId": "12fda553-3f6b-4f8d-e0ea-36fc5de5e304"
      },
      "execution_count": 42,
      "outputs": [
        {
          "output_type": "stream",
          "name": "stdout",
          "text": [
            "['Elderberries']\n"
          ]
        }
      ]
    },
    {
      "cell_type": "code",
      "source": [
        "import pandas as pd\n",
        "employee = pd.DataFrame({\n",
        "    \"Employee\": [\"Alice\", \"Bob\", \"Charlie\", \"David\", \"Eve\"],\n",
        "    \"Department\": [\"HR\", \"IT\", \"Finance\", \"IT\", \"Marketing\"],\n",
        "    \"Manager\": [\"John\", \"Rachel\", \"Emily\", \"Rachel\", \"Mike\"]})\n",
        "\n",
        "project = pd.DataFrame({\n",
        "    \"Employee\": [\"Alice\", \"Charlie\", \"Eve\", \"David\"],\n",
        "    \"Project\": [\"P1\", \"P3\", \"P2\", \"P4\"]})\n",
        "df = pd.merge(employee, project, on='Employee')\n",
        "print(df[['Project', 'Department', 'Manager']])\n"
      ],
      "metadata": {
        "colab": {
          "base_uri": "https://localhost:8080/"
        },
        "id": "wj9o4UQzQPro",
        "outputId": "3c5fbc2d-4996-4df7-d54d-e352bcf408df"
      },
      "execution_count": 47,
      "outputs": [
        {
          "output_type": "stream",
          "name": "stdout",
          "text": [
            "  Project Department Manager\n",
            "0      P1         HR    John\n",
            "1      P3    Finance   Emily\n",
            "2      P4         IT  Rachel\n",
            "3      P2  Marketing    Mike\n"
          ]
        }
      ]
    },
    {
      "cell_type": "code",
      "source": [
        "data = {'Department': ['Electronics', 'Electronics', 'Clothing', 'Clothing', 'Home Goods'],\n",
        "        'Salesperson': ['Alice', 'Bob', 'Charlie', 'David', 'Eve'],\n",
        "        'Sales': [70000, 50000, 30000, 40000, 60000]}\n",
        "df = pd.DataFrame(data)\n",
        "avg_sales = df.groupby('Department')['Sales'].mean()\n",
        "print(avg_sales)\n"
      ],
      "metadata": {
        "colab": {
          "base_uri": "https://localhost:8080/"
        },
        "id": "naQXKgPXR-mk",
        "outputId": "5715779e-e6ce-44f7-814e-1638df17c90e"
      },
      "execution_count": 48,
      "outputs": [
        {
          "output_type": "stream",
          "name": "stdout",
          "text": [
            "Department\n",
            "Clothing       35000.0\n",
            "Electronics    60000.0\n",
            "Home Goods     60000.0\n",
            "Name: Sales, dtype: float64\n"
          ]
        }
      ]
    }
  ]
}